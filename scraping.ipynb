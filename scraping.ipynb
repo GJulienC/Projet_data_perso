{
 "cells": [
  {
   "attachments": {},
   "cell_type": "markdown",
   "metadata": {},
   "source": [
    "### -- I ) Projet analyse des données immobilière, récupération et traitement des données --"
   ]
  },
  {
   "attachments": {},
   "cell_type": "markdown",
   "metadata": {},
   "source": [
    "L'objectif du projet est de récupérer des données sur le prix de l'immobilier \n",
    "pour afficher l'évolution de son prix par jour et par mois."
   ]
  },
  {
   "attachments": {},
   "cell_type": "markdown",
   "metadata": {},
   "source": [
    "Import des librairies"
   ]
  },
  {
   "cell_type": "code",
   "execution_count": 1,
   "metadata": {},
   "outputs": [
    {
     "name": "stderr",
     "output_type": "stream",
     "text": [
      "/Users/gj3dgf4hf/Documents/Projet_Python/Figaro-immo/env_Python_3.9/lib/python3.9/site-packages/urllib3/__init__.py:34: NotOpenSSLWarning: urllib3 v2.0 only supports OpenSSL 1.1.1+, currently the 'ssl' module is compiled with 'LibreSSL 2.8.3'. See: https://github.com/urllib3/urllib3/issues/3020\n",
      "  warnings.warn(\n"
     ]
    }
   ],
   "source": [
    "import requests\n",
    "import re\n",
    "from bs4 import BeautifulSoup\n",
    "import pandas as pd \n",
    "from datetime import datetime\n",
    "import os"
   ]
  },
  {
   "attachments": {},
   "cell_type": "markdown",
   "metadata": {},
   "source": [
    "Vide le dossier appelé \"page_html\" avant son alimentation."
   ]
  },
  {
   "cell_type": "code",
   "execution_count": 2,
   "metadata": {},
   "outputs": [],
   "source": [
    "taile_du_dossier = os.listdir(\"page_Html\")\n",
    "\n",
    "if(len(taile_du_dossier) > 0):\n",
    "    for page in range(1,100+1):\n",
    "        os.remove(f\"page_Html/immo{page}.html\")\n",
    "else:\n",
    "    pass"
   ]
  },
  {
   "attachments": {},
   "cell_type": "markdown",
   "metadata": {},
   "source": [
    "Requete et récupération des la pages en HTML"
   ]
  },
  {
   "cell_type": "code",
   "execution_count": 3,
   "metadata": {},
   "outputs": [],
   "source": [
    "\n",
    "#-------------------------------- boucle pour récuperer les pages numérotées.\n",
    "for page in range(1,100+1):\n",
    "    # Requete de la page\n",
    "    url = f'https://immobilier.lefigaro.fr/annonces/immobilier-vente-bien-france.html?page={page}'\n",
    "    html_text = requests.get(url).text\n",
    "    soup = BeautifulSoup(html_text, 'html.parser')\n",
    "    \n",
    "    # Enregistrement de la page\n",
    "    file_html = open(f\"page_Html/immo{page}.html\",\"w\")\n",
    "    file_html.write(str(soup))"
   ]
  },
  {
   "attachments": {},
   "cell_type": "markdown",
   "metadata": {},
   "source": [
    "Ouveture du fichier / récupération des données ( prix , type de logement, ville)"
   ]
  },
  {
   "cell_type": "code",
   "execution_count": null,
   "metadata": {},
   "outputs": [],
   "source": [
    "l_prix_logement = []\n",
    "l_ville = []\n",
    "l_type_de_bien = []\n",
    "\n",
    "for i in range(1,100+1):\n",
    "    with open(f\"page_Html/immo{i}.html\") as file:\n",
    "        soup2 = BeautifulSoup(file, \"html.parser\")\n",
    "    \n",
    "    print(f\"page_Html/immo{i}.html\")\n",
    "\n",
    "    prix_logement = soup2.find_all(\"span\", class_=\"price\")\n",
    "    ville = soup2.find_all(\"span\", class_=\"title-location\")\n",
    "    type_de_bien = soup2.find_all(\"h2\", class_=\"cartouche-liste__title\")\n",
    "\n",
    "    # Add element in list \n",
    "    \n",
    "    for index in range(0, len(prix_logement) ):\n",
    "\n",
    "        # Nettoyage du prix\n",
    "        u_prix = prix_logement[index].text\n",
    "        u_prix = u_prix.replace(\"€\", \"\")\n",
    "        u_prix = u_prix.replace(\" \", \"\")\n",
    "        l_prix_logement.append(u_prix)\n",
    "       \n",
    "        # Nettoyage du nom de la ville\n",
    "        u_ville = ville[index].text\n",
    "        u_ville = u_ville[:-4]\n",
    "        l_ville.append(u_ville)\n",
    "\n",
    "        # Nettoyage du type de bien\n",
    "        u_type_de_bien = type_de_bien[index].text\n",
    "        categorie_bien = re.search('[a-zA-Z0-9_]+', u_type_de_bien )\n",
    "        l_type_de_bien.append(categorie_bien.group())\n",
    "\n"
   ]
  },
  {
   "attachments": {},
   "cell_type": "markdown",
   "metadata": {},
   "source": [
    "Création du dataframe contenant les données [ Ville, Type de bien, Prix ]."
   ]
  },
  {
   "cell_type": "code",
   "execution_count": 5,
   "metadata": {},
   "outputs": [],
   "source": [
    "dataframe = pd.DataFrame({\"Ville\": l_ville,\n",
    "                \"Type de bien\":l_type_de_bien,\n",
    "                \"Prix\":l_prix_logement})"
   ]
  },
  {
   "attachments": {},
   "cell_type": "markdown",
   "metadata": {},
   "source": [
    "Visualisation du dataframe"
   ]
  },
  {
   "cell_type": "code",
   "execution_count": 6,
   "metadata": {},
   "outputs": [
    {
     "data": {
      "text/html": [
       "<div>\n",
       "<style scoped>\n",
       "    .dataframe tbody tr th:only-of-type {\n",
       "        vertical-align: middle;\n",
       "    }\n",
       "\n",
       "    .dataframe tbody tr th {\n",
       "        vertical-align: top;\n",
       "    }\n",
       "\n",
       "    .dataframe thead th {\n",
       "        text-align: right;\n",
       "    }\n",
       "</style>\n",
       "<table border=\"1\" class=\"dataframe\">\n",
       "  <thead>\n",
       "    <tr style=\"text-align: right;\">\n",
       "      <th></th>\n",
       "      <th>Ville</th>\n",
       "      <th>Type de bien</th>\n",
       "      <th>Prix</th>\n",
       "    </tr>\n",
       "  </thead>\n",
       "  <tbody>\n",
       "    <tr>\n",
       "      <th>0</th>\n",
       "      <td>Marseille 6ème</td>\n",
       "      <td>appartement</td>\n",
       "      <td>310000</td>\n",
       "    </tr>\n",
       "    <tr>\n",
       "      <th>1</th>\n",
       "      <td>Montceau-les-Mines</td>\n",
       "      <td>maison</td>\n",
       "      <td>298000</td>\n",
       "    </tr>\n",
       "    <tr>\n",
       "      <th>2</th>\n",
       "      <td>Cannes</td>\n",
       "      <td>appartement</td>\n",
       "      <td>350000</td>\n",
       "    </tr>\n",
       "    <tr>\n",
       "      <th>3</th>\n",
       "      <td>La Plaine-sur-Mer</td>\n",
       "      <td>maison</td>\n",
       "      <td>327670</td>\n",
       "    </tr>\n",
       "    <tr>\n",
       "      <th>4</th>\n",
       "      <td>Saint-lye</td>\n",
       "      <td>terrain</td>\n",
       "      <td>130000</td>\n",
       "    </tr>\n",
       "  </tbody>\n",
       "</table>\n",
       "</div>"
      ],
      "text/plain": [
       "                 Ville Type de bien    Prix\n",
       "0      Marseille 6ème   appartement  310000\n",
       "1  Montceau-les-Mines        maison  298000\n",
       "2              Cannes   appartement  350000\n",
       "3   La Plaine-sur-Mer        maison  327670\n",
       "4           Saint-lye       terrain  130000"
      ]
     },
     "execution_count": 6,
     "metadata": {},
     "output_type": "execute_result"
    }
   ],
   "source": [
    "dataframe.head(5)"
   ]
  },
  {
   "attachments": {},
   "cell_type": "markdown",
   "metadata": {},
   "source": [
    "Enregistrement du dataframe au format CSV"
   ]
  },
  {
   "cell_type": "code",
   "execution_count": 7,
   "metadata": {},
   "outputs": [],
   "source": [
    "dataframe.to_csv(\"rendu_csv/immo_figaro.csv\", index=False)"
   ]
  }
 ],
 "metadata": {
  "kernelspec": {
   "display_name": "Python 3 (ipykernel)",
   "language": "python",
   "name": "python3"
  },
  "language_info": {
   "codemirror_mode": {
    "name": "ipython",
    "version": 3
   },
   "file_extension": ".py",
   "mimetype": "text/x-python",
   "name": "python",
   "nbconvert_exporter": "python",
   "pygments_lexer": "ipython3",
   "version": "3.9.6"
  },
  "vscode": {
   "interpreter": {
    "hash": "40d3a090f54c6569ab1632332b64b2c03c39dcf918b08424e98f38b5ae0af88f"
   }
  }
 },
 "nbformat": 4,
 "nbformat_minor": 2
}
